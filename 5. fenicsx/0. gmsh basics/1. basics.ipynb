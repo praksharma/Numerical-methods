{
 "cells": [
  {
   "cell_type": "code",
   "execution_count": 5,
   "metadata": {},
   "outputs": [],
   "source": [
    "# Fenicsx and Dolfinx has removed the plotting functions and we are supposed to create meshes and visualise the simulation with 3rd party tools\n",
    "# here we are using gmsh's python API\n",
    "import gmsh"
   ]
  },
  {
   "cell_type": "code",
   "execution_count": 6,
   "metadata": {},
   "outputs": [],
   "source": [
    "# Initialize Gmsh\n",
    "gmsh.initialize()\n",
    "\n",
    "# create a new model\n",
    "gmsh.model.add(\"rectangle\")\n"
   ]
  },
  {
   "cell_type": "code",
   "execution_count": 7,
   "metadata": {},
   "outputs": [],
   "source": [
    "# Define the size of the rectangle\n",
    "L = 1.0\n",
    "H = 1.0\n",
    "\n",
    "# Create the lower-left point and the rectangle\n",
    "# model.occ.addPoint() : 3 required positional arguments: 'x', 'y', and 'z'\n",
    "# model.occ.addRectangle() : 5 required positional arguments: 'x', 'y', 'z', 'dx', and 'dy'\n",
    "r1 = gmsh.model.occ.addRectangle(0.0, 0.0, 0.0, L, H)\n",
    "gmsh.model.occ.synchronize()"
   ]
  },
  {
   "cell_type": "code",
   "execution_count": 8,
   "metadata": {},
   "outputs": [
    {
     "name": "stdout",
     "output_type": "stream",
     "text": [
      "Info    : Meshing 1D...\n",
      "Info    : [  0%] Meshing curve 1 (Line)\n",
      "Info    : [ 30%] Meshing curve 2 (Line)\n",
      "Info    : [ 50%] Meshing curve 3 (Line)\n",
      "Info    : [ 80%] Meshing curve 4 (Line)\n",
      "Info    : Done meshing 1D (Wall 0.000880298s, CPU 0.001842s)\n",
      "Info    : Meshing 2D...\n",
      "Info    : Meshing surface 1 (Plane, Frontal-Delaunay)\n",
      "Info    : Done meshing 2D (Wall 0.0109942s, CPU 0.012417s)\n",
      "Info    : 98 nodes 198 elements\n",
      "Info    : Writing 'rectangle.vtk'...\n",
      "Info    : Done writing 'rectangle.vtk'\n"
     ]
    }
   ],
   "source": [
    "# gmsh.model.mesh.generate(dim=3)\n",
    "gmsh.model.mesh.generate(2)\n",
    "\n",
    "# Save the mesh to a file\n",
    "gmsh.write(\"rectangle.vtk\")"
   ]
  },
  {
   "cell_type": "code",
   "execution_count": 1,
   "metadata": {},
   "outputs": [
    {
     "data": {
      "text/html": [
       "\n",
       "<table>\n",
       "<tr><th>UnstructuredGrid</th><th>Information</th></tr>\n",
       "<tr><td>N Cells</td><td>132</td></tr>\n",
       "<tr><td>N Points</td><td>65</td></tr>\n",
       "<tr><td>X Bounds</td><td>0.000e+00, 1.100e+00</td></tr>\n",
       "<tr><td>Y Bounds</td><td>0.000e+00, 1.100e+00</td></tr>\n",
       "<tr><td>Z Bounds</td><td>0.000e+00, 1.000e+00</td></tr>\n",
       "<tr><td>N Arrays</td><td>0</td></tr>\n",
       "</table>\n",
       "\n"
      ],
      "text/plain": [
       "UnstructuredGrid (0x7ff1ecbf54e0)\n",
       "  N Cells:\t132\n",
       "  N Points:\t65\n",
       "  X Bounds:\t0.000e+00, 1.100e+00\n",
       "  Y Bounds:\t0.000e+00, 1.100e+00\n",
       "  Z Bounds:\t0.000e+00, 1.000e+00\n",
       "  N Arrays:\t0"
      ]
     },
     "execution_count": 1,
     "metadata": {},
     "output_type": "execute_result"
    }
   ],
   "source": [
    "import pyvista as pv\n",
    "# Load the mesh data from the VTK file\n",
    "mesh = pv.read(\"rectangle.vtk\")\n",
    "\n",
    "mesh"
   ]
  }
 ],
 "metadata": {
  "kernelspec": {
   "display_name": "Python 3 (DOLFINx complex)",
   "language": "python",
   "name": "python3-complex"
  },
  "language_info": {
   "codemirror_mode": {
    "name": "ipython",
    "version": 3
   },
   "file_extension": ".py",
   "mimetype": "text/x-python",
   "name": "python",
   "nbconvert_exporter": "python",
   "pygments_lexer": "ipython3",
   "version": "3.10.6"
  }
 },
 "nbformat": 4,
 "nbformat_minor": 4
}
