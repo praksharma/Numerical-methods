{
 "cells": [
  {
   "cell_type": "code",
   "execution_count": 1,
   "metadata": {},
   "outputs": [],
   "source": [
    "# flow past a cylinder\n",
    "# I downloaded the mesh from https://opencruncher.com/tutorial-karman-vortex-street"
   ]
  },
  {
   "cell_type": "code",
   "execution_count": 6,
   "metadata": {},
   "outputs": [
    {
     "data": {
      "text/plain": [
       "CompletedProcess(args=['gmsh', '-format', 'msh2', '-o', 'circle.xml', 'circle.msh'], returncode=0)"
      ]
     },
     "execution_count": 6,
     "metadata": {},
     "output_type": "execute_result"
    }
   ],
   "source": [
    "import subprocess\n",
    "\n",
    "# Convert the mesh to Dolfin XML format using Gmsh's mesh conversion tools\n",
    "subprocess.run([\"gmsh\", \"-format\", \"msh2\", \"-o\", \"circle.xml\", \"circle.msh\"])"
   ]
  },
  {
   "cell_type": "code",
   "execution_count": 4,
   "metadata": {},
   "outputs": [],
   "source": [
    "from fenics import Mesh\n",
    "\n"
   ]
  },
  {
   "cell_type": "markdown",
   "metadata": {},
   "source": [
    "Short story, dolfin removed the build-in shapes like circle and rectangle. They want people to use gmsh or something else. I hate this decision.\n",
    "\n",
    "https://fenicsproject.discourse.group/t/rectangle-and-circle-functions-deprecated/3845"
   ]
  },
  {
   "cell_type": "code",
   "execution_count": 5,
   "metadata": {},
   "outputs": [
    {
     "ename": "RuntimeError",
     "evalue": "\n\n*** -------------------------------------------------------------------------\n*** DOLFIN encountered an error. If you are not able to resolve this issue\n*** using the information listed below, you can ask for help at\n***\n***     fenics-support@googlegroups.com\n***\n*** Remember to include the error message listed below and, if possible,\n*** include a *minimal* running example to reproduce the error.\n***\n*** -------------------------------------------------------------------------\n*** Error:   Unable to open file.\n*** Reason:  Unknown file type (\".msh\") for file \"cicle.msh\".\n*** Where:   This error was encountered inside File.cpp.\n*** Process: 0\n*** \n*** DOLFIN version: 2019.1.0\n*** Git changeset:  ba376b6aebd7a9bc089be46b50bdd9f5c548fb91\n*** -------------------------------------------------------------------------\n",
     "output_type": "error",
     "traceback": [
      "\u001b[0;31m---------------------------------------------------------------------------\u001b[0m",
      "\u001b[0;31mRuntimeError\u001b[0m                              Traceback (most recent call last)",
      "\u001b[1;32m/home/hell/Desktop/repos/Numerical-methods/4. fenics/5. flow past a cylinder.ipynb Cell 4\u001b[0m in \u001b[0;36m<cell line: 2>\u001b[0;34m()\u001b[0m\n\u001b[1;32m      <a href='vscode-notebook-cell:/home/hell/Desktop/repos/Numerical-methods/4.%20fenics/5.%20flow%20past%20a%20cylinder.ipynb#W3sZmlsZQ%3D%3D?line=0'>1</a>\u001b[0m \u001b[39m# Load the mesh from a .msh file\u001b[39;00m\n\u001b[0;32m----> <a href='vscode-notebook-cell:/home/hell/Desktop/repos/Numerical-methods/4.%20fenics/5.%20flow%20past%20a%20cylinder.ipynb#W3sZmlsZQ%3D%3D?line=1'>2</a>\u001b[0m mesh \u001b[39m=\u001b[39m Mesh(\u001b[39m\"\u001b[39;49m\u001b[39mcicle.msh\u001b[39;49m\u001b[39m\"\u001b[39;49m)\n",
      "\u001b[0;31mRuntimeError\u001b[0m: \n\n*** -------------------------------------------------------------------------\n*** DOLFIN encountered an error. If you are not able to resolve this issue\n*** using the information listed below, you can ask for help at\n***\n***     fenics-support@googlegroups.com\n***\n*** Remember to include the error message listed below and, if possible,\n*** include a *minimal* running example to reproduce the error.\n***\n*** -------------------------------------------------------------------------\n*** Error:   Unable to open file.\n*** Reason:  Unknown file type (\".msh\") for file \"cicle.msh\".\n*** Where:   This error was encountered inside File.cpp.\n*** Process: 0\n*** \n*** DOLFIN version: 2019.1.0\n*** Git changeset:  ba376b6aebd7a9bc089be46b50bdd9f5c548fb91\n*** -------------------------------------------------------------------------\n"
     ]
    }
   ],
   "source": [
    "# Load the mesh from a .msh file\n",
    "mesh = Mesh(\"cicle.msh\")"
   ]
  },
  {
   "cell_type": "code",
   "execution_count": 12,
   "metadata": {},
   "outputs": [
    {
     "name": "stderr",
     "output_type": "stream",
     "text": [
      "Error   : Unknown OpenCASCADE entity of dimension 2 with tag 10\n"
     ]
    },
    {
     "ename": "Exception",
     "evalue": "Unknown OpenCASCADE entity of dimension 2 with tag 10",
     "output_type": "error",
     "traceback": [
      "\u001b[0;31m---------------------------------------------------------------------------\u001b[0m",
      "\u001b[0;31mException\u001b[0m                                 Traceback (most recent call last)",
      "Cell \u001b[0;32mIn[12], line 15\u001b[0m\n\u001b[1;32m     12\u001b[0m circle \u001b[38;5;241m=\u001b[39m model\u001b[38;5;241m.\u001b[39mocc\u001b[38;5;241m.\u001b[39maddCircle(\u001b[38;5;241m0\u001b[39m, \u001b[38;5;241m0\u001b[39m, \u001b[38;5;241m0\u001b[39m, \u001b[38;5;241m0.1\u001b[39m)\n\u001b[1;32m     14\u001b[0m \u001b[38;5;66;03m# Cut the rectangle with the circle\u001b[39;00m\n\u001b[0;32m---> 15\u001b[0m fluid \u001b[38;5;241m=\u001b[39m \u001b[43mmodel\u001b[49m\u001b[38;5;241;43m.\u001b[39;49m\u001b[43mocc\u001b[49m\u001b[38;5;241;43m.\u001b[39;49m\u001b[43mcut\u001b[49m\u001b[43m(\u001b[49m\u001b[43m[\u001b[49m\u001b[43m(\u001b[49m\u001b[38;5;241;43m2\u001b[39;49m\u001b[43m,\u001b[49m\u001b[43m \u001b[49m\u001b[43mbox\u001b[49m\u001b[43m)\u001b[49m\u001b[43m]\u001b[49m\u001b[43m,\u001b[49m\u001b[43m \u001b[49m\u001b[43m[\u001b[49m\u001b[43m(\u001b[49m\u001b[38;5;241;43m2\u001b[39;49m\u001b[43m,\u001b[49m\u001b[43m \u001b[49m\u001b[43mcircle\u001b[49m\u001b[43m)\u001b[49m\u001b[43m]\u001b[49m\u001b[43m)\u001b[49m\n\u001b[1;32m     17\u001b[0m model\u001b[38;5;241m.\u001b[39mocc\u001b[38;5;241m.\u001b[39msynchronize()\n",
      "File \u001b[0;32m/usr/local/lib/gmsh.py:8020\u001b[0m, in \u001b[0;36mmodel.occ.cut\u001b[0;34m(objectDimTags, toolDimTags, tag, removeObject, removeTool)\u001b[0m\n\u001b[1;32m   8010\u001b[0m lib\u001b[38;5;241m.\u001b[39mgmshModelOccCut(\n\u001b[1;32m   8011\u001b[0m     api_objectDimTags_, api_objectDimTags_n_,\n\u001b[1;32m   8012\u001b[0m     api_toolDimTags_, api_toolDimTags_n_,\n\u001b[0;32m   (...)\u001b[0m\n\u001b[1;32m   8017\u001b[0m     c_int(\u001b[38;5;28mbool\u001b[39m(removeTool)),\n\u001b[1;32m   8018\u001b[0m     byref(ierr))\n\u001b[1;32m   8019\u001b[0m \u001b[38;5;28;01mif\u001b[39;00m ierr\u001b[38;5;241m.\u001b[39mvalue \u001b[38;5;241m!=\u001b[39m \u001b[38;5;241m0\u001b[39m:\n\u001b[0;32m-> 8020\u001b[0m     \u001b[38;5;28;01mraise\u001b[39;00m \u001b[38;5;167;01mException\u001b[39;00m(logger\u001b[38;5;241m.\u001b[39mgetLastError())\n\u001b[1;32m   8021\u001b[0m \u001b[38;5;28;01mreturn\u001b[39;00m (\n\u001b[1;32m   8022\u001b[0m     _ovectorpair(api_outDimTags_, api_outDimTags_n_\u001b[38;5;241m.\u001b[39mvalue),\n\u001b[1;32m   8023\u001b[0m     _ovectorvectorpair(api_outDimTagsMap_, api_outDimTagsMap_n_, api_outDimTagsMap_nn_))\n",
      "\u001b[0;31mException\u001b[0m: Unknown OpenCASCADE entity of dimension 2 with tag 10"
     ]
    }
   ],
   "source": [
    "# Create a new model\n",
    "# Create a new model\n",
    "model = gmsh.model\n",
    "\n",
    "\n",
    "# Define the box for the fluid domain\n",
    "# TypeError: model.occ.addRectangle() missing 5 required positional arguments: 'x', 'y', 'z', 'dx', and 'dy'\n",
    "box = model.occ.addRectangle(-2, -1, 0, 4, 2)\n",
    "\n",
    "# Define the circle for the cylinder\n",
    "# TypeError: model.occ.addCircle() missing 4 required positional arguments: 'x', 'y', 'z', and 'r'\n",
    "circle = model.occ.addCircle(0, 0, 0, 0.1)\n",
    "\n",
    "# Cut the rectangle with the circle\n",
    "fluid = model.occ.cut([(1, box)], [(1, circle)])\n",
    "\n",
    "model.occ.synchronize()\n"
   ]
  },
  {
   "cell_type": "code",
   "execution_count": 9,
   "metadata": {},
   "outputs": [
    {
     "name": "stdout",
     "output_type": "stream",
     "text": [
      "Info    : Meshing 1D...\n",
      "Info    : [  0%] Meshing curve 1 (Line)\n",
      "Info    : [ 10%] Meshing curve 2 (Line)\n",
      "Info    : [ 20%] Meshing curve 3 (Line)\n",
      "Info    : [ 20%] Meshing curve 4 (Line)\n",
      "Info    : [ 30%] Meshing curve 5 (Circle)\n",
      "Info    : [ 30%] Meshing curve 6 (Line)\n",
      "Info    : [ 40%] Meshing curve 7 (Line)\n",
      "Info    : [ 40%] Meshing curve 8 (Line)\n",
      "Info    : [ 50%] Meshing curve 9 (Line)\n",
      "Info    : [ 50%] Meshing curve 10 (Circle)\n",
      "Info    : [ 60%] Meshing curve 11 (Line)\n",
      "Info    : [ 60%] Meshing curve 12 (Line)\n",
      "Info    : [ 70%] Meshing curve 13 (Line)\n",
      "Info    : [ 70%] Meshing curve 14 (Line)\n",
      "Info    : [ 80%] Meshing curve 15 (Circle)\n",
      "Info    : [ 80%] Meshing curve 16 (Line)\n",
      "Info    : [ 90%] Meshing curve 17 (Line)\n",
      "Info    : [ 90%] Meshing curve 18 (Line)\n",
      "Info    : [100%] Meshing curve 19 (Line)\n",
      "Info    : Done meshing 1D (Wall 0.00321569s, CPU 0.002413s)\n",
      "Info    : Meshing 2D...\n",
      "Info    : [  0%] Meshing surface 1 (Plane, Frontal-Delaunay)\n",
      "Info    : [ 30%] Meshing surface 2 (Plane, Frontal-Delaunay)\n",
      "Info    : [ 50%] Meshing surface 3 (Plane, Frontal-Delaunay)\n",
      "Info    : [ 80%] Meshing surface 4 (Plane, Frontal-Delaunay)\n",
      "Info    : Done meshing 2D (Wall 0.0308172s, CPU 0.031088s)\n",
      "Info    : 298 nodes 586 elements\n",
      "Info    : Writing 'flow_cylinder.msh'...\n",
      "Info    : Done writing 'flow_cylinder.msh'\n"
     ]
    }
   ],
   "source": [
    "\n",
    "# Generate the mesh\n",
    "\n",
    "gmsh.model.mesh.generate(2)\n",
    "\n",
    "# Save the mesh\n",
    "gmsh.write(\"flow_cylinder.msh\")\n",
    "\n",
    "# Finalize Gmsh\n",
    "gmsh.finalize()"
   ]
  }
 ],
 "metadata": {
  "kernelspec": {
   "display_name": "Python 3 (ipykernel)",
   "language": "python",
   "name": "python3"
  },
  "language_info": {
   "codemirror_mode": {
    "name": "ipython",
    "version": 3
   },
   "file_extension": ".py",
   "mimetype": "text/x-python",
   "name": "python",
   "nbconvert_exporter": "python",
   "pygments_lexer": "ipython3",
   "version": "3.10.4"
  }
 },
 "nbformat": 4,
 "nbformat_minor": 4
}
